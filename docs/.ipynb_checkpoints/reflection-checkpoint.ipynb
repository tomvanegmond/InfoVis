{
 "cells": [
  {
   "cell_type": "markdown",
   "id": "cba15f49-f647-4ad4-b0e6-4cdc6f8dcc4b",
   "metadata": {},
   "source": [
    "# Reflection"
   ]
  },
  {
   "cell_type": "markdown",
   "id": "d4c07f47-d5be-4a3a-be57-23ca20802b32",
   "metadata": {},
   "source": [
    "## TA-feedback\n",
    "During our feedback session with the TA we got various points of improvement. Underneath the suggestion we explain how we implemented it:\n",
    "- Add more statistics to the “Bicycle Theft vs. Maximum Temperature” plot  \n",
    "  → Added the correlation coefficient and gradient.\n",
    "\n",
    "- The use of both evaporation and temperature in the “Temperature, evaporation and water-influence reports over time” plot is redundant  \n",
    "  → Removed evaporation due to its strong correlation with temperature, replaced temperature with sunshine duration for more variety.\n",
    "\n",
    "- The variables in the heatmap do not closely match the narrative  \n",
    "  → Adjusted the heatmap to include variables more relevant to our research question.\n",
    "\n",
    "- Improve the readability of the plots  \n",
    "  → Applied larger fonts and clearer axis labels\n",
    "\n",
    "- Use variable names instead of codes in the heatmap  \n",
    "  → Variables are now displayed with full, descriptive names.\n",
    "\n",
    "- Use years instead of months in the “Temperature, evaporation and water-influence reports over time” plot, and remove lines indicating months  \n",
    "  → The x-axis now shows the months grouped by year\n",
    "\n",
    "## Self reflection\n",
    "During this project, we gained a better understanding of how visual design choices like colour schemes and layout can impact the clarity and effectiveness of the visualisations. We gradually improved these aspects by experimenting with different styles, which made our graphs more accessible and visually appealing."
   ]
  }
 ],
 "metadata": {
  "kernelspec": {
   "display_name": "Python (seabornenv)",
   "language": "python",
   "name": "seabornenv"
  },
  "language_info": {
   "codemirror_mode": {
    "name": "ipython",
    "version": 3
   },
   "file_extension": ".py",
   "mimetype": "text/x-python",
   "name": "python",
   "nbconvert_exporter": "python",
   "pygments_lexer": "ipython3",
   "version": "3.13.2"
  }
 },
 "nbformat": 4,
 "nbformat_minor": 5
}
