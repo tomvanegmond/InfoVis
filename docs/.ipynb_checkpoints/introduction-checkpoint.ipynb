{
 "cells": [
  {
   "cell_type": "markdown",
   "id": "176b273d-dc23-4639-a765-446891fd3a4a",
   "metadata": {},
   "source": [
    "# Introduction"
   ]
  },
  {
   "cell_type": "markdown",
   "id": "e01bb2f0-3af1-4e18-a0f0-6c775d6ee80f",
   "metadata": {},
   "source": [
    "In the Netherlands, crime rates have generally declined since the early 2000s, though seasonal fluctuations remain. This project explores whether such fluctuations may be linked to weather conditions.\n",
    "\n",
    "Using public data from the KNMI (Royal Netherlands Meteorological Institute) and CBS (Statistics Netherlands), we examine possible correlations between weather and crime. If found, such patterns could inform first responders and raise public awareness of external influences on crime."
   ]
  },
  {
   "cell_type": "markdown",
   "id": "e4713c61-5b18-4309-9956-4a031b62fdca",
   "metadata": {},
   "source": [
    "## Perspective 1: Pleasant weather increases the risk of property and substance related crimes\n",
    "This perspective argues that warm, sunny, and dry conditions can increase specific types of criminal activity, particularly property and substance-related crime. The idea is that good weather draws more people outside, which creates more opportunities for certain crimes to occur.\n",
    "\n",
    "Argument 1.1: Higher temperatures lead to more bicycle theft \\\n",
    "In cities like Amsterdam, where cycling is a major form of transport, more people use their bikes on warmer days. \\\n",
    "This higher volume of cyclists correlates with an increase in bicycle theft. \\\n",
    "Visualization: Correlation between maximum temperature (TX) and daily bicycle theft rates.\n",
    "\n",
    "Argument 1.2 Substance related incidents on boats increase with sunshine \\\n",
    "It is likely that sunny, dry weather encourages recreational activity near and on the water, which could be accompanied by substance use. These conditions may reduce people’s attention and judgment.\n",
    "Visualization: Correlation showing links between sunshine duration (SQ), and alcohol-related incidents."
   ]
  },
  {
   "cell_type": "markdown",
   "id": "44a27030-bbef-4228-b8be-db495fe186ec",
   "metadata": {},
   "source": [
    "## Perspective 2: Serious crimes are not affected by bad weather\n",
    "\n",
    "This perspective emphasizes that while some crimes are weather-sensitive, others, like some serious crimes, might not show such patterns.\n",
    "\n",
    "Argument 2.1: Increased rainfall has no correlation to the amount of burglaries \\\n",
    "Rain is often thought to encourage burglars giving them more cover, but studies show no clear link between rainfall and burglary incidents (Peng et al., 2011). We are going to analyse if the same is true in Amsterdam. \\\n",
    "Visualization: Correlation between burglary rates and total rainfall (DR).\n",
    "\n",
    "Argument 2.2: Serious crimes are not seasonally dependent \\\n",
    "Crimes such as abuse, murder, and cybercrime do not show significant seasonal or weather-based variation. This argument is based on the idea that these crimes are driven more by social or personal factors than environmental conditions.\n",
    "Visualization: Comparison of distribution of serious crimes per season.\n",
    "\n"
   ]
  },
  {
   "cell_type": "markdown",
   "id": "907609a5-0def-4862-8658-bef427bc4b17",
   "metadata": {},
   "source": [
    "**Authors:** \\\n",
    "Asafa Wielingen \\\n",
    "Nizaar Amri \\\n",
    "Wolf Remarque \\\n",
    "Tom van Egmond "
   ]
  }
 ],
 "metadata": {
  "kernelspec": {
   "display_name": "Python (seabornenv)",
   "language": "python",
   "name": "seabornenv"
  },
  "language_info": {
   "codemirror_mode": {
    "name": "ipython",
    "version": 3
   },
   "file_extension": ".py",
   "mimetype": "text/x-python",
   "name": "python",
   "nbconvert_exporter": "python",
   "pygments_lexer": "ipython3",
   "version": "3.13.2"
  }
 },
 "nbformat": 4,
 "nbformat_minor": 5
}
