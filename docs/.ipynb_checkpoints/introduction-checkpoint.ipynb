{
 "cells": [
  {
   "cell_type": "markdown",
   "id": "176b273d-dc23-4639-a765-446891fd3a4a",
   "metadata": {},
   "source": [
    "# Introduction"
   ]
  },
  {
   "cell_type": "markdown",
   "id": "e01bb2f0-3af1-4e18-a0f0-6c775d6ee80f",
   "metadata": {},
   "source": [
    "Research shows that in the Netherlands crime rates have been slowly descending, but that they still fluctuate throughout the year. It’s also a known fact that climate change has been one of the earth’s biggest problems in the past years. This project investigates if these crime rates are in any way influenced by weather conditions. By analyzing databases from the KNMI (Royal Netherlands Meteorological Institute) and the CBS (Statistics Netherlands) we hope to find out if there are any correlations between the two events. Finding a correlation could possibly help first responders stay informed on the matters of crime. "
   ]
  },
  {
   "cell_type": "markdown",
   "id": "e4713c61-5b18-4309-9956-4a031b62fdca",
   "metadata": {},
   "source": [
    "## Perspective 1: Pleasant weather increases the risk of certain crimes\n",
    "This perspective argues that warm, sunny, and dry conditions may lead to an increase in specific types of criminal activity. The underlying idea is that people spend more time outdoors in good weather, which creates more opportunities for crimes to occur.\n",
    "\n",
    "Argument 1.1: Higher temperatures lead to more bicycle theft \\\n",
    "In cities like Amsterdam, where cycling is a major form of transport, more people use their bikes on warmer days. \\\n",
    "This higher volume of cyclists correlates with an increase in bicycle theft. \\\n",
    "Visualization: Correlation between maximum temperature (TX) and daily bicycle theft rates.\n",
    "\n",
    "Argument 1.2 Substance related incidents on boats increase with sunshine  \\\n",
    "Data shows a clear positive correlation between alcohol-related incidents at beaches and pools and sunny, dry weather.\n",
    "These conditions lead to more recreational activity and may reduce people's attention and judgment. \\\n",
    "Visualization: Correlation showing links between temperature (TX), sunshine duration (SQ), and alcohol-related incidents."
   ]
  },
  {
   "cell_type": "markdown",
   "id": "44a27030-bbef-4228-b8be-db495fe186ec",
   "metadata": {},
   "source": [
    "## Perspective 2: Cold or bad weather influences other crimes (or none at all)\n",
    "\n",
    "This perspective emphasizes that while some crimes are weather-sensitive, others might not show such patterns, or are even more likely to occur in poor weather conditions.\n",
    "\n",
    "Argument 2.1: Reduced visbility increases burglary risk \\\n",
    "Reduced visibility due to fog or early nightfall in winter may facilitate home invasions. This argument is based on the idea that low visibility helps criminals go unnoticed. \\\n",
    "Visualization: Correlation between burglary rates and minimal visibilty (VVN).\n",
    "\n",
    "Argument 2.2: Serious crimes are not weather-dependent \\\n",
    "\n",
    "Crimes such as abuse, murder, and cybercrime do not show significant seasonal or weather-based variation. This argument is based on the idea that these crimes are driven more by social or personal factors than environmental conditions. \\\n",
    "Visualization: Comparison of distribution of serious crimes per season.\n",
    "\n"
   ]
  },
  {
   "cell_type": "markdown",
   "id": "907609a5-0def-4862-8658-bef427bc4b17",
   "metadata": {},
   "source": [
    "**Authors:** \\\n",
    "Asafa Wielingen \\\n",
    "Nizaar Amri \\\n",
    "Wolf Remarque \\\n",
    "Tom van Egmond "
   ]
  }
 ],
 "metadata": {
  "kernelspec": {
   "display_name": "Python (seabornenv)",
   "language": "python",
   "name": "seabornenv"
  },
  "language_info": {
   "codemirror_mode": {
    "name": "ipython",
    "version": 3
   },
   "file_extension": ".py",
   "mimetype": "text/x-python",
   "name": "python",
   "nbconvert_exporter": "python",
   "pygments_lexer": "ipython3",
   "version": "3.13.2"
  }
 },
 "nbformat": 4,
 "nbformat_minor": 5
}
