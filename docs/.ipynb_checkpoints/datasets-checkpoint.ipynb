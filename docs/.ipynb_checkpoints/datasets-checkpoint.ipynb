{
 "cells": [
  {
   "cell_type": "markdown",
   "id": "a7d56378-2fbc-4e34-b3e7-fa9525884e9b",
   "metadata": {},
   "source": [
    "# Datasets and Preprocessing"
   ]
  },
  {
   "cell_type": "markdown",
   "id": "14fe8e19-cf2f-4347-bb49-8d9773eec201",
   "metadata": {},
   "source": [
    " In this research, we combine two publicly accessible data sources to create a table that contains, per month, both weather conditions and recorded crimes in the Netherlands. The weather conditions are originally measured per day, while the crimes are reported per month. To get both sources neatly into one file, so we can work with it properly, we performed a series of operations explained below.\n",
    " \n",
    "We make use of two reliable government sources. The first is the KNMI file with daily weather observations from station Schiphol (STN 240). This dataset contains all measurements from January 1, 2012, through April 30, 2025: in total 4,873 day‑rows and 48 columns. The dataset contains all standard weather measurements from KNMI. The variables include, for example: the minimum temperature at 10 cm height (T10N), the daily total of precipitation (RH), and the minimum visibility distance (VVN). Even though not every variable is directly needed for the final analysis, we include the complete set to avoid overlooking any potential correlations.\n",
    "\n",
    "The second source is the CBS table ‘Registered crimes; type of crime, district, neighborhood; monthly figures’. This contains monthly counts for sixty crime categories. We used the version that was available on June 10, 2025. This covers the period from January 2012 through April 2025. Both sources are managed by national Dutch institutions and are considered reliable.\n",
    "Although the datasets were already delivered very well by the institutions, it was still necessary to make some small adjustments for further processing. While cleaning the data, all column names were first stripped of unnecessary spaces so that variables such as T10N and RH would be correctly recognized. Then, in the KNMI file, all data columns were converted to numeric values. This prevents issues caused by missing measurements sometimes being stored as empty text fields, which can cause problems when calculating averages. In the CBS file, the dot (.) that indicates a suppressed observation was also replaced by numeric values.\n",
    "\n",
    "The KNMI and CBS datasets were not structured in the same way. One had the recorded time as rows and the other as columns. Because of this, we first had to adjust the CBS dataset to make merging easier.\n",
    " Since the CBS dataset gives monthly values per crime category and the KNMI provides daily measurements, we decided to take a monthly average for each weather variable. These averages give a general idea of a particular weather variable during that month, such as temperature or sunshine hours.\n",
    " \n",
    "After the two datasets were prepared, we could merge them. Only months that are present in both sources were retained. We were able to merge the two datasets using the date, which we formatted identically in both datasets. The end result consists of 160 rows and 102 columns, namely one key column (the date), 41 weather features, and 60 crime categories.\n"
   ]
  },
  {
   "cell_type": "code",
   "execution_count": null,
   "id": "2662b8f9-fe30-4e24-a4bc-f5becdd28144",
   "metadata": {},
   "outputs": [],
   "source": []
  }
 ],
 "metadata": {
  "kernelspec": {
   "display_name": "Python (seabornenv)",
   "language": "python",
   "name": "seabornenv"
  },
  "language_info": {
   "codemirror_mode": {
    "name": "ipython",
    "version": 3
   },
   "file_extension": ".py",
   "mimetype": "text/x-python",
   "name": "python",
   "nbconvert_exporter": "python",
   "pygments_lexer": "ipython3",
   "version": "3.13.2"
  }
 },
 "nbformat": 4,
 "nbformat_minor": 5
}
