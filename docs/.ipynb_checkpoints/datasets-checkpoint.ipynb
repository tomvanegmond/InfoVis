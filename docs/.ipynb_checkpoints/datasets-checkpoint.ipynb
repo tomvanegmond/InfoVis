{
 "cells": [
  {
   "cell_type": "markdown",
   "id": "a7d56378-2fbc-4e34-b3e7-fa9525884e9b",
   "metadata": {},
   "source": [
    "# Datasets and Preprocessing"
   ]
  },
  {
   "cell_type": "markdown",
   "id": "14fe8e19-cf2f-4347-bb49-8d9773eec201",
   "metadata": {},
   "source": [
    "## Datasets\n",
    "To explore the correlation between crime and weather, we used two reliable government datasets.\n",
    "\n",
    "The first is a KNMI dataset with daily weather observations from station Schiphol (STN 240), available at: https://www.knmi.nl/nederland-nu/klimatologie/daggegevens. It covers January 1, 2012, to April 30, 2025 — totaling 4,873 days and 48 variables. That are too many variables to go over so here are the ones we used:\n",
    "- `TX` - `Maximum temperature` (in 0.1 °C)  \n",
    "- `SQ`- `Sunshine duration` (in hours)\n",
    "- `VVN` - `Minimum visibility` (in 100 meters) \n",
    "- `TG` - `Average temperature` (in 0.1 °C)  \n",
    "- `DR` -`Precipitation` (in # of hours)\n",
    "\n",
    "The second source is the CBS table ‘Registered crimes; type of crime, district, neighborhood; monthly figures’. This dataset is downloaded from: https://opendata.cbs.nl/statline/#/CBS/nl/dataset/83648NED/table?fromstatweb. This contains monthly counts for sixty crime categories. We used the version that was available on June 10, 2025. This covers the period from January 2012 through April 2025. The variables we used are:\n",
    "- `1.2.3 Diefstal van brom-, snor-, fietsen` – `Bicycle theft`  \n",
    "- `3.4.2 Onder invloed (water)` – `Under influence (water)`  \n",
    "- `1.1.1 Diefstal/inbraak woning` – `Burglary/theft from home`  \n",
    "- `1.3.1 Ongevallen (weg)` – `Traffic accidents`  \n",
    "- `2.5.2 Winkeldiefstal` – `Shoplifting`  \n",
    "- `1.2.4 Zakkenrollerij` – `Pickpocketing`  \n",
    "- `1.4.2 Moord, doodslag` – `Murder, manslaughter`  \n",
    "- `1.4.5 Mishandeling` – `Abuse`  \n",
    "- `3.7.4 Cybercrime` – `Cybercrime`  \n",
    "- `1.4.3 Openlijk geweld (persoon)` – `Public violence`\n",
    "\n",
    "Because the data consists of only continuous numeric values, we can explore linear relationships between weather variables and crime categories through Pearson's correlation, as well as use scatterplots and regression models to visualize patterns.\n",
    "\n",
    "## Cleaning\n",
    "Although the datasets were well-structured, some adjustments were needed before merging. While cleaning the data, all column names were first stripped of unnecessary spaces so that all variables would be recognized correctly. Then, in the KNMI file, all data columns were converted to numeric values, to avoid issues from missing values stored as empty text fields. In the CBS file, the dot (.) that indicates a suppressed observation was also replaced by the mean numeric value for that column.\n",
    "Since the datasets were structured differently (KNMI used rows for dates while CBS used them as column labels), we first restructured the CBS dataset to have dates as a column. This allowed us to merge the datasets by date. \n",
    "\n",
    "## Aggregation\n",
    "Because the CBS dataset contains monthly crime figures while the KNMI dataset provides daily weather measurements, we aggregated the weather data by calculating the mean for each variable per month. This allowed us to compare monthly crime trends with average monthly weather conditions. The date codes in the KNMI file made this grouping possible.\n",
    "After the two datasets were prepared, we could merge them. Only months that are present in both sources were retained. We were able to merge the two datasets using the date, which we formatted identically in both datasets. The end result consists of 160 rows and 102 columns, one key column (the date), 41 weather features, and 60 crime categories.\n"
   ]
  }
 ],
 "metadata": {
  "kernelspec": {
   "display_name": "Python (seabornenv)",
   "language": "python",
   "name": "seabornenv"
  },
  "language_info": {
   "codemirror_mode": {
    "name": "ipython",
    "version": 3
   },
   "file_extension": ".py",
   "mimetype": "text/x-python",
   "name": "python",
   "nbconvert_exporter": "python",
   "pygments_lexer": "ipython3",
   "version": "3.13.2"
  }
 },
 "nbformat": 4,
 "nbformat_minor": 5
}
