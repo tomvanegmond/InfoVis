{
 "cells": [
  {
   "cell_type": "markdown",
   "id": "b1fa3ba4-9224-460e-84e7-d8b1e4d848ff",
   "metadata": {},
   "source": [
    "# Work Distribution"
   ]
  },
  {
   "cell_type": "markdown",
   "id": "3c9f08ec-fe85-4cdd-ac41-5c9c6cba29f0",
   "metadata": {},
   "source": [
    "text"
   ]
  }
 ],
 "metadata": {
  "kernelspec": {
   "display_name": "Python (seabornenv)",
   "language": "python",
   "name": "seabornenv"
  },
  "language_info": {
   "codemirror_mode": {
    "name": "ipython",
    "version": 3
   },
   "file_extension": ".py",
   "mimetype": "text/x-python",
   "name": "python",
   "nbconvert_exporter": "python",
   "pygments_lexer": "ipython3",
   "version": "3.13.2"
  }
 },
 "nbformat": 4,
 "nbformat_minor": 5
}