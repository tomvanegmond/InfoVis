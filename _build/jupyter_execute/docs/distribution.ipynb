{
 "cells": [
  {
   "cell_type": "markdown",
   "id": "b1fa3ba4-9224-460e-84e7-d8b1e4d848ff",
   "metadata": {},
   "source": [
    "# Work Distribution"
   ]
  },
  {
   "cell_type": "markdown",
   "id": "3c9f08ec-fe85-4cdd-ac41-5c9c6cba29f0",
   "metadata": {},
   "source": [
    "## Asafa\n",
    "Asafa mainly worked on developing the perspectives and on the introduction, making it fit with the rest of the data story.\n",
    "\n",
    "## Nizaar \n",
    "Nizaar worked on the explanation of the graphs and their relevance as well as their place within our perspectives which was mainly writing work. \n",
    "\n",
    "## Wolf \n",
    "Wolf was responsible for the preprocessing of the data, and writing the preprocessing story, aswell as our reflection.\n",
    "\n",
    "## Tom\n",
    "Tom conducted the analysis, and made most of our plots. He was responsible for deploying the project on github pages and making everything run smoothly.\n"
   ]
  }
 ],
 "metadata": {
  "kernelspec": {
   "display_name": "Python (seabornenv)",
   "language": "python",
   "name": "seabornenv"
  },
  "language_info": {
   "codemirror_mode": {
    "name": "ipython",
    "version": 3
   },
   "file_extension": ".py",
   "mimetype": "text/x-python",
   "name": "python",
   "nbconvert_exporter": "python",
   "pygments_lexer": "ipython3",
   "version": "3.13.2"
  }
 },
 "nbformat": 4,
 "nbformat_minor": 5
}