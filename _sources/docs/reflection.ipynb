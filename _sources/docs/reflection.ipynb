{
 "cells": [
  {
   "cell_type": "markdown",
   "id": "cba15f49-f647-4ad4-b0e6-4cdc6f8dcc4b",
   "metadata": {},
   "source": [
    "# Reflection"
   ]
  },
  {
   "cell_type": "markdown",
   "id": "d4c07f47-d5be-4a3a-be57-23ca20802b32",
   "metadata": {},
   "source": [
    "text"
   ]
  }
 ],
 "metadata": {
  "kernelspec": {
   "display_name": "Python (seabornenv)",
   "language": "python",
   "name": "seabornenv"
  },
  "language_info": {
   "codemirror_mode": {
    "name": "ipython",
    "version": 3
   },
   "file_extension": ".py",
   "mimetype": "text/x-python",
   "name": "python",
   "nbconvert_exporter": "python",
   "pygments_lexer": "ipython3",
   "version": "3.13.2"
  }
 },
 "nbformat": 4,
 "nbformat_minor": 5
}
