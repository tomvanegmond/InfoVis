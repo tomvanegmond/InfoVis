{
 "cells": [
  {
   "cell_type": "markdown",
   "id": "176b273d-dc23-4639-a765-446891fd3a4a",
   "metadata": {},
   "source": [
    "# Introduction"
   ]
  },
  {
   "cell_type": "markdown",
   "id": "e01bb2f0-3af1-4e18-a0f0-6c775d6ee80f",
   "metadata": {},
   "source": [
    "Research shows that in the Netherlands crime rates have been slowly descending, but that they still fluctuate throughout the year. It’s also a known fact that climate change has been one of the earth’s biggest problems in the past years. This project investigates if these crime rates are in any way influenced by weather conditions. By analyzing databases from the KNMI (Royal Netherlands Meteorological Institute) and the CBS (Statistics Netherlands) we hope to find out if there are any correlations between the two events. Finding a correlation could possibly help first responders stay informed on the matters of crime. "
   ]
  },
  {
   "cell_type": "markdown",
   "id": "907609a5-0def-4862-8658-bef427bc4b17",
   "metadata": {},
   "source": [
    "**Authors:** \\\n",
    "Asafa Wielingen \\\n",
    "Nizaar Amri \\\n",
    "Wolf Remarque \\\n",
    "Tom van Egmond "
   ]
  }
 ],
 "metadata": {
  "kernelspec": {
   "display_name": "Python (seabornenv)",
   "language": "python",
   "name": "seabornenv"
  },
  "language_info": {
   "codemirror_mode": {
    "name": "ipython",
    "version": 3
   },
   "file_extension": ".py",
   "mimetype": "text/x-python",
   "name": "python",
   "nbconvert_exporter": "python",
   "pygments_lexer": "ipython3",
   "version": "3.13.2"
  }
 },
 "nbformat": 4,
 "nbformat_minor": 5
}
