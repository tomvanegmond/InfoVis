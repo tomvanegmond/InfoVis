{
 "cells": [
  {
   "cell_type": "markdown",
   "id": "176b273d-dc23-4639-a765-446891fd3a4a",
   "metadata": {},
   "source": [
    "# Introduction"
   ]
  },
  {
   "cell_type": "markdown",
   "id": "e01bb2f0-3af1-4e18-a0f0-6c775d6ee80f",
   "metadata": {},
   "source": [
    "Research shows that in the Netherlands crime rates have been slowly descending, but that they still fluctuate throughout the year. It’s also a known fact that climate change has been one of the earth’s biggest problems in the past years. This project investigates if these crime rates are in any way influenced by weather conditions. By analyzing databases from the KNMI (Royal Netherlands Meteorological Institute) and the CBS (Statistics Netherlands) we hope to find out if there are any correlations between the two events. Finding a correlation could possibly help first responders stay informed on the matters of crime. "
   ]
  },
  {
   "cell_type": "markdown",
   "id": "e4713c61-5b18-4309-9956-4a031b62fdca",
   "metadata": {},
   "source": [
    "## Perspective 1: Pleasant weather increases the risk of certain crimes\n",
    "This perspective argues that warm, sunny, and dry conditions may lead to an increase in specific types of criminal activity. The underlying idea is that people spend more time outdoors in good weather, which creates more opportunities for crimes to occur.\n",
    "\n",
    "Argument 1.1: Higher temperatures lead to more bicycle theft \\\n",
    "In cities like Amsterdam, where cycling is a major form of transport, more people use their bikes on warmer days. \\\n",
    "This higher volume of cyclists correlates with an increase in bicycle theft. \\\n",
    "Visualization: Correlation between maximum temperature (TX) and daily bicycle theft rates.\n",
    "\n",
    "Argument 1.2: Alcohol-related incidents on the water increase with sunshine \\\n",
    "Data shows a clear positive correlation between alcohol-related incidents at beaches and pools and sunny, dry weather.\n",
    "These conditions lead to more recreational activity and may reduce people's attention and judgment. \\\n",
    "Visualization: Correlation matrix showing links between temperature (TX), evaporation (EV24), sunshine duration (SQ), and alcohol-related incidents.\n",
    "\n",
    "Argument 1.3: Less rain means more street incidents \\\n",
    "Rain discourages outdoor activity, resulting in fewer opportunities for street crimes like pickpocketing or assault. On dry days, people are more active in public areas, increasing the risk of such crimes. \\\n",
    "    Visualization: Negative correlation between rainfall variables (RH, UG, PX) and outdoor incidents."
   ]
  },
  {
   "cell_type": "markdown",
   "id": "44a27030-bbef-4228-b8be-db495fe186ec",
   "metadata": {},
   "source": [
    "## Perspective 2: Cold or bad weather influences other crimes (or none at all)\n",
    "\n",
    "This perspective emphasizes that while some crimes are weather-sensitive, others show no such pattern—or are even more likely to occur in poor weather conditions.\n",
    "\n",
    "Argument 2.1: Serious crimes are not weather-dependent \\\n",
    "Crimes such as abuse, murder, and cybercrime do not show significant seasonal or weather-based variation. They appear to occur at a steady rate throughout the year. \\\n",
    "Visualization: Comparison of monthly rates of serious crimes vs. weather trends (flat pattern).\n",
    "\n",
    "Argument 2.2: Fog and darkness may increase burglary risk \\\n",
    "Reduced visibility due to fog or early nightfall in winter may facilitate home invasions. This argument is based on the idea that low visibility helps criminals go unnoticed. \\\n",
    "Visualization: Correlation between burglary rates and foggy days (N), sunshine duration (SQ), and frost days (FD).\n",
    "\n",
    "Argument 2.3: Cybercrime is entirely unrelated to weather \\\n",
    "Unlike physical crimes, cybercrime shows no dependence on weather or season. Instead, its rise appears to be driven by digital trends and social factors. \\\n",
    "Visualization: Time series of cybercrime vs. temperature and other weather metrics, showing no correlation."
   ]
  },
  {
   "cell_type": "markdown",
   "id": "907609a5-0def-4862-8658-bef427bc4b17",
   "metadata": {},
   "source": [
    "**Authors:** \\\n",
    "Asafa Wielingen \\\n",
    "Nizaar Amri \\\n",
    "Wolf Remarque \\\n",
    "Tom van Egmond "
   ]
  }
 ],
 "metadata": {
  "kernelspec": {
   "display_name": "Python (seabornenv)",
   "language": "python",
   "name": "seabornenv"
  },
  "language_info": {
   "codemirror_mode": {
    "name": "ipython",
    "version": 3
   },
   "file_extension": ".py",
   "mimetype": "text/x-python",
   "name": "python",
   "nbconvert_exporter": "python",
   "pygments_lexer": "ipython3",
   "version": "3.13.2"
  }
 },
 "nbformat": 4,
 "nbformat_minor": 5
}
