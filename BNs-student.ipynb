{
  "cells": [
    {
      "cell_type": "markdown",
      "id": "c9c0a368-1a08-4995-b12e-abf497759660",
      "metadata": {
        "id": "c9c0a368-1a08-4995-b12e-abf497759660"
      },
      "source": [
        "# Outline\n",
        "\n",
        "In this notebook we will develop a Bayesian Network (BN) class and some of the key algorithms for BNs.\n",
        "\n",
        "A BN combines a DAG and a collection of CPDs, and we have coded DAGs and CPDs (specifically, tabular CPDs) for you. We also provide some of the code for a BN class, and you will complete some of it.\n",
        "\n",
        "This is a high-level outline of the notebook, you will find exercises in most sections.\n",
        "\n",
        "1. We start with constructing DAGs\n",
        "2. Next, we construct tabular CPDs\n",
        "3. Then, we design a BN class combining DAGs and tabular CPDs, this class will support all three fundamental probability queries (joint, marginal and conditional).\n",
        "4. We then look into reasoning patterns.\n",
        "5. Finally, we test for independence in two ways, namely, using the joint distribution and using only the BN structure.\n",
        "\n",
        "**Table of Exercises**\n",
        "\n",
        "The exercises and the points they are worth are shown below:\n",
        "\n",
        "1. Student: DAG [0.5]\n",
        "2. Student: CPDs [0.5]\n",
        "3. Student: BN [0.5]\n",
        "4. Student: Joint Distribution [1]\n",
        "5. Student: Reasoning Patterns [1.5]\n",
        "6. Student: Independence [2]\n",
        "7. Student: Trails [1.5]\n",
        "8. Student: D-Separation [1]\n",
        "9. Extended Student: BN Structure [0.5]\n",
        "10. Extended Student: D-Separation [1]\n",
        "\n",
        "\n",
        "**Use of AI tools**\n",
        "\n",
        "In this course we expect _you_ and your team members to author your work.\n",
        "AI tools are not to be used for drafts, nor code completion, nor revisions, nor as a 'study tool', nor as a source of feedback. If you do use AI, it should not contribute to the substance of what you present as your work.  \n",
        "\n",
        "At the end of this notebook you will find a section on _Use of AI tools_. **Make sure to read and complete it**.\n",
        "By submitting a version of this notebook for assessment, you agree with our terms."
      ]
    },
    {
      "cell_type": "markdown",
      "id": "9f13166b-e20d-4aae-bb17-81f03cbe6a0d",
      "metadata": {
        "id": "9f13166b-e20d-4aae-bb17-81f03cbe6a0d"
      },
      "source": [
        "# Setting Up\n",
        "\n",
        "Take care of dependencies:"
      ]
    },
    {
      "cell_type": "code",
      "execution_count": null,
      "id": "c3f470c2-29bc-47c5-9cd4-a860e160a723",
      "metadata": {
        "id": "c3f470c2-29bc-47c5-9cd4-a860e160a723"
      },
      "outputs": [],
      "source": [
        "# !pip install tabulate\n",
        "# !pip install git+https://github.com/probabll/pgmini.git"
      ]
    },
    {
      "cell_type": "code",
      "execution_count": null,
      "id": "d06a94f9-0473-40c4-85ac-053c1930ada1",
      "metadata": {
        "id": "d06a94f9-0473-40c4-85ac-053c1930ada1"
      },
      "outputs": [],
      "source": [
        "import pgmini\n",
        "print(pgmini.__version__)"
      ]
    },
    {
      "cell_type": "code",
      "execution_count": null,
      "id": "e129c8bb-e8ec-4d2c-8960-c44774d9f7ca",
      "metadata": {
        "id": "e129c8bb-e8ec-4d2c-8960-c44774d9f7ca"
      },
      "outputs": [],
      "source": [
        "from collections import defaultdict, deque, OrderedDict\n",
        "import itertools\n",
        "from tabulate import tabulate\n",
        "import numpy as np"
      ]
    },
    {
      "cell_type": "markdown",
      "id": "4f2f04f1-c7b6-486c-b96d-1481b9c46e42",
      "metadata": {
        "id": "4f2f04f1-c7b6-486c-b96d-1481b9c46e42"
      },
      "source": [
        "# DAGs"
      ]
    },
    {
      "cell_type": "markdown",
      "id": "96f059a0-cfde-4f04-b566-88580b31c7aa",
      "metadata": {
        "id": "96f059a0-cfde-4f04-b566-88580b31c7aa"
      },
      "source": [
        "We use a few helpers from [pgmini](https://github.com/probabll/pgmini), you can check a demo notebook for these helpers in pgmini's repository. In particular, we are using `pgmini.m1` (for Module 1)."
      ]
    },
    {
      "cell_type": "code",
      "execution_count": null,
      "id": "b06cd2bb-cea5-426c-8dfe-fd5bcbf2a3be",
      "metadata": {
        "id": "b06cd2bb-cea5-426c-8dfe-fd5bcbf2a3be"
      },
      "outputs": [],
      "source": [
        "from pgmini.m1 import DAG"
      ]
    },
    {
      "cell_type": "markdown",
      "id": "586a728f-2b08-4991-b7c9-c57f809eac25",
      "metadata": {
        "id": "586a728f-2b08-4991-b7c9-c57f809eac25"
      },
      "source": [
        "Let's start with the BN _structure_, namely, a **directed acyclic graph** (DAG).\n",
        "Using our _DAG_ class you can build DAGs very easily:\n"
      ]
    },
    {
      "cell_type": "code",
      "execution_count": null,
      "id": "1457f878-b82c-4c3a-819f-8463e98b42ab",
      "metadata": {
        "id": "1457f878-b82c-4c3a-819f-8463e98b42ab"
      },
      "outputs": [],
      "source": [
        "DAG(nodes=['A', 'B', 'C', 'D'], edges=[('B', 'A'), ('C', 'A'), ('D', 'B')])"
      ]
    },
    {
      "cell_type": "markdown",
      "id": "0c6fd97e-55b7-42a5-b6ff-a089e0ee2251",
      "metadata": {
        "id": "0c6fd97e-55b7-42a5-b6ff-a089e0ee2251"
      },
      "source": [
        "# Tabular CPDs"
      ]
    },
    {
      "cell_type": "code",
      "execution_count": null,
      "id": "b2c5f53c-89a8-4567-b2ae-081c5bd96c27",
      "metadata": {
        "id": "b2c5f53c-89a8-4567-b2ae-081c5bd96c27"
      },
      "outputs": [],
      "source": [
        "from pgmini.m1 import OutcomeSpace, TabularCPD"
      ]
    },
    {
      "cell_type": "markdown",
      "id": "c18448e1-df1a-4fcc-84c6-30d9a84c41ac",
      "metadata": {
        "id": "c18448e1-df1a-4fcc-84c6-30d9a84c41ac"
      },
      "source": [
        "Next, we need _conditional probability distributions_ (CPDs). A CPD assigns probability to the outcomes of a random variable (rv) in a given conditioning context.\n",
        "\n",
        "Consider two binary rvs, namely $B$ and $D$. Given $D=d^1$, we have a cpd over the outcomes of $B|D=d^1$, which specifies for example that $P(B=b^1|D=d^1)=0.9$ and $P(B=b^0|D=d^1)=0.1$. Given $D=d^0$, we have a cpd over the outcomes of $B|D=d^0$, which specifies for example that $P(B=b^1|D=d^0)=0.5$ and $P(B=b^0|D=d^0)=0.5$."
      ]
    },
    {
      "cell_type": "markdown",
      "id": "8f40e77a-8e4a-487b-ae65-253a10f8807a",
      "metadata": {
        "id": "8f40e77a-8e4a-487b-ae65-253a10f8807a"
      },
      "source": [
        "There are many ways to represent cpds in a computer, our strategy for now is to use a **table**. That's okay because for now we are only interested in discrete rvs (with countably finite sample spaces) and not too many of them will interact at once.\n",
        "\n",
        "A **tabular CPD** is essentially a table whose rows identify the _conditioning context_ and whose columns identify the _outcomes_ of rv whose distribution we are specifying. In the example above, the table will have rows for $b^0$ and $b^1$ and columns for $a^0$ and $a^1$.\n",
        "\n",
        "The table below illustrates the basic datastructure.\n",
        "\n",
        "| context  &nbsp;&nbsp;&nbsp;&nbsp;      |           $ b^0 $           |           $ b^1 $          |\n",
        "| :------------- | :-------------------------: | :-------------------------: |\n",
        "|   $ D=d^0 $  | $ P(B = b^0 \\mid D = d^0) $ | $ P(B = b^1 \\mid D = d^0) $ |\n",
        "|   $ D=d^1 $  | $ P(B = b^0 \\mid D = d^1) $ | $ P(B = b^1 \\mid D = d^1) $ |\n",
        "\n",
        "Internally we use a tensor, rather than a table, each axis of the tensor is associated with the outcome space of one of the rvs, in order: the parent rvs followed by the child rv (last axis)."
      ]
    },
    {
      "cell_type": "code",
      "execution_count": null,
      "id": "5caddc3e-0281-49ae-a399-4095ce32be0a",
      "metadata": {
        "id": "5caddc3e-0281-49ae-a399-4095ce32be0a"
      },
      "outputs": [],
      "source": [
        "cpdC = TabularCPD(\n",
        "    [], 'C',\n",
        "    {'C': OutcomeSpace(['c0', 'c1'])},\n",
        "    table=[0.2, 0.8],\n",
        ")\n",
        "print(cpdC)"
      ]
    },
    {
      "cell_type": "code",
      "execution_count": null,
      "id": "a631e8b7-b60c-40dd-bdf2-da0bfb56bf95",
      "metadata": {
        "id": "a631e8b7-b60c-40dd-bdf2-da0bfb56bf95"
      },
      "outputs": [],
      "source": [
        "cpdD = TabularCPD(\n",
        "    [], 'D',\n",
        "    {'D': OutcomeSpace(['d0', 'd1'])},\n",
        "    table=[0.6, 0.4],\n",
        ")\n",
        "print(cpdD)"
      ]
    },
    {
      "cell_type": "code",
      "execution_count": null,
      "id": "5eb2d468-3c48-4d33-99aa-9d262a65ed27",
      "metadata": {
        "id": "5eb2d468-3c48-4d33-99aa-9d262a65ed27"
      },
      "outputs": [],
      "source": [
        "cpdB = TabularCPD(\n",
        "    ['D'], 'B',\n",
        "    {'B': OutcomeSpace(['b0', 'b1']),\n",
        "     'D': OutcomeSpace(['d0', 'd1'])\n",
        "    },\n",
        "    table=[[0.5, 0.5], [0.1, 0.9]],\n",
        ")\n",
        "print(cpdB)"
      ]
    },
    {
      "cell_type": "code",
      "execution_count": null,
      "id": "c0abae57-9ffa-4691-a2ad-1635f267760d",
      "metadata": {
        "id": "c0abae57-9ffa-4691-a2ad-1635f267760d"
      },
      "outputs": [],
      "source": [
        "cpdA = TabularCPD(\n",
        "    ['B', 'C'], 'A',\n",
        "    {'B': OutcomeSpace(['b0', 'b1']),\n",
        "     'C': OutcomeSpace(['c0', 'c1']),\n",
        "     'A': OutcomeSpace(['a1', 'a2', 'a3']),\n",
        "    },\n",
        "    table=[[[0.3 , 0.6, 0.1], [0.7 , 0.1, 0.2]],\n",
        "           [[0.45, 0.5, 0.05], [0.1 , 0.88, 0.02]]],\n",
        ")\n",
        "print(cpdA)"
      ]
    },
    {
      "cell_type": "markdown",
      "id": "55d6912d-f59f-41f2-aed1-8e90a5dde8e3",
      "metadata": {
        "id": "55d6912d-f59f-41f2-aed1-8e90a5dde8e3"
      },
      "source": [
        "We can retrieve a specific cell by querying any of these CPDs with an assignment of the rvs:"
      ]
    },
    {
      "cell_type": "code",
      "execution_count": null,
      "id": "4983b28f-26a7-4ace-97da-029bca020de7",
      "metadata": {
        "id": "4983b28f-26a7-4ace-97da-029bca020de7"
      },
      "outputs": [],
      "source": [
        "cpdA.prob({'A': 'a3', 'B': 'b0', 'C': 'c1', 'D': 'd1'})  # irrelevant rvs are ignored"
      ]
    },
    {
      "cell_type": "markdown",
      "id": "ed440647-f658-49d0-a8a4-e763a515d104",
      "metadata": {
        "id": "ed440647-f658-49d0-a8a4-e763a515d104"
      },
      "source": [
        "# The Student Example"
      ]
    },
    {
      "cell_type": "markdown",
      "id": "32ac54bf-91f1-4ceb-95cb-63417e12ead4",
      "metadata": {
        "id": "32ac54bf-91f1-4ceb-95cb-63417e12ead4"
      },
      "source": [
        "We are ready to code the graph structure of the Student BN discussed in class (Figure 1)."
      ]
    },
    {
      "cell_type": "markdown",
      "id": "58a52bfe-ebae-4d76-b573-046ea2e8ce7f",
      "metadata": {
        "id": "58a52bfe-ebae-4d76-b573-046ea2e8ce7f"
      },
      "source": [
        "**EXERCISE - Student: DAG.** Construct a DAG for the BN structure of the Student example (Figure 1 in class) and display it."
      ]
    },
    {
      "cell_type": "code",
      "execution_count": null,
      "id": "8401d8ca-4020-4e1a-b1c0-631261c65717",
      "metadata": {
        "id": "8401d8ca-4020-4e1a-b1c0-631261c65717"
      },
      "outputs": [],
      "source": [
        "# **YOUR SOLUTION HERE**"
      ]
    },
    {
      "cell_type": "markdown",
      "id": "bdecd44a-0983-4fa4-b424-796e3a7dfe55",
      "metadata": {
        "id": "bdecd44a-0983-4fa4-b424-796e3a7dfe55"
      },
      "source": [
        "**EXERCISE - Student: CPDs.** Construct _TabularCPD_ objects for all CPDs in the Student example discussed in class (use the same numerical values as we did in class; Figure 2) and display them."
      ]
    },
    {
      "cell_type": "code",
      "execution_count": null,
      "id": "4dd4cb87-22cf-40a0-96d3-75a427270599",
      "metadata": {
        "id": "4dd4cb87-22cf-40a0-96d3-75a427270599"
      },
      "outputs": [],
      "source": [
        "# **YOUR SOLUTION HERE**"
      ]
    },
    {
      "cell_type": "markdown",
      "id": "d9019d17-a27d-4f66-96eb-450b910459fd",
      "metadata": {
        "id": "d9019d17-a27d-4f66-96eb-450b910459fd"
      },
      "source": [
        "# Bayesian Network"
      ]
    },
    {
      "cell_type": "markdown",
      "id": "4ce27989-6182-40e6-872b-512c020f4933",
      "metadata": {
        "id": "4ce27989-6182-40e6-872b-512c020f4933"
      },
      "source": [
        "Then, our **Bayesian Network** (BN) data structure will store a DAG for the BN structure and a collection of the CPDs for the nodes."
      ]
    },
    {
      "cell_type": "code",
      "execution_count": null,
      "id": "69acecb8-3d2f-46d1-9102-a932e0b79346",
      "metadata": {
        "editable": true,
        "tags": [],
        "id": "69acecb8-3d2f-46d1-9102-a932e0b79346"
      },
      "outputs": [],
      "source": [
        "class BayesianNetwork:\n",
        "    \"\"\"\n",
        "    A BN combines a DAG (we use an implementation from pgmini.m1)\n",
        "     and a collection of CPDs (we use TabularCPD from pgmini.m1)\n",
        "    \"\"\"\n",
        "\n",
        "    def __init__(self, nodes: list, edges: list):\n",
        "        \"\"\"\n",
        "        nodes: a list of pairs, each element is a tuple (rv_name: str, cpd: TabularCPD)\n",
        "        edges: a list of pairs, each element is a tuple (parent_name: str, child_name: str)\n",
        "\n",
        "        Remark: some students may object that it is possible to figure out 'nodes' and 'edges'\n",
        "         from a collection of CPDs, while that is true it can lead to confusion as a CPD implementation\n",
        "         allows for quite some room for variation; here we opt for a clearer (even if somewhat redundant)\n",
        "         constructor.\n",
        "        \"\"\"\n",
        "        self.dag = DAG([rv for rv, _ in nodes], edges)\n",
        "        self.cpds = dict(nodes)  # rv -> CPD\n",
        "\n",
        "    def joint_probability(self, assignment: dict):\n",
        "        \"\"\"\n",
        "        Compute and return the joint probability (float) of an assignment of the rvs.\n",
        "            This assignment is regarded as 'complete' so long for any rv is assigned its ancestors are also assigned\n",
        "            For example, in the BN structure A -> B -> C,\n",
        "                the assignments (A=a1), (A=a1, B=b0) and (A=a1, B=b0, C=c1) are 'complete'\n",
        "                but the assignments (B=b0), (C=c1), (B=b1, C=c1) and (A=a1, C=c1) are not, for in each of these cases\n",
        "                some necessary ancestors of a given rv is missing.\n",
        "\n",
        "            You do not need to test if the assignment is 'complete' in this sense, you\n",
        "            can assume that no one will query incomplete assignments (and if they do, they will get exceptions from TabularCPD).\n",
        "\n",
        "            If you ever have to query an assignment that is incomplete in the sense above,\n",
        "            you need to think about the _kind_ of query you are making and find a better method in this class.\n",
        "\n",
        "        assignment: a dict mapping each rv to an outcome in the rv's outcome space\n",
        "        \"\"\"\n",
        "        raise NotImplementedError(\"Implementing this is an exercise\")\n",
        "\n",
        "    def marginal_probability(self, query_assignment=dict()):\n",
        "        \"\"\"\n",
        "        Compute P(query_assignment) by enumerating over unassigned ancestors only.\n",
        "            That is, P(query_assignment) = \\sum_{unassigned_ancestors} P(query_assignment, unassigned_ancestors)\n",
        "        \"\"\"\n",
        "        query = query_assignment.keys()\n",
        "        # gather all ancestors\n",
        "        ancestors = set()\n",
        "        for rv in query:\n",
        "            ancestors |= self.dag.ancestors[rv]\n",
        "        # remove the query variables (in case the query contains A=a, D=d and A is one of the ancestors of D)\n",
        "        # these are the variables we want to marginalise out\n",
        "        unassigned_ancestors = tuple(v for v in ancestors if v not in query)\n",
        "\n",
        "        prob = 0.0\n",
        "        # these are the outcome spaces of the variables to be marginalised out\n",
        "        outcome_spaces = [self.cpds[ancestor].enumerate_outcomes() for ancestor in unassigned_ancestors]\n",
        "        # here we enumerate the assignments in the cartesian product of the outcome spaces\n",
        "        for outcomes in OutcomeSpace.enumerate_joint_outcomes(*outcome_spaces):\n",
        "            missing_assignment = dict(zip(unassigned_ancestors, outcomes))\n",
        "            # combining the missing assignment and the query assignment\n",
        "            # we have an assignment that misses no ancestor\n",
        "            prob += self.joint_probability({**query_assignment, **missing_assignment})\n",
        "\n",
        "        return prob\n",
        "\n",
        "    def conditional_probability(self, query_assignment: dict, evidence_assignment: dict):\n",
        "        \"\"\"\n",
        "        Compute P(query | evidence) = P(query, evidence) / P(evidence)\n",
        "        \"\"\"\n",
        "        # we use the definition of conditional probability: P(B|A) = P(A,B)/P(B)\n",
        "        # where P(A,B) and P(B) are marginals of a joint distribution P(A,B,C), for example.\n",
        "        numerator = self.marginal_probability({**evidence_assignment, **query_assignment})\n",
        "        denominator = self.marginal_probability(evidence_assignment)\n",
        "        return numerator / denominator\n",
        "\n",
        "    def enumerate_joint_outcomes(self, rvs):\n",
        "        \"\"\"\n",
        "        Helper to enumerate joint outcomes (list of strings) in the cartersian product (cross-product) space of the rvs' outcome spaces\n",
        "        \"\"\"\n",
        "        outcome_spaces = [self.cpds[rv].enumerate_outcomes() for rv in rvs]\n",
        "        for joint_outcome in itertools.product(*outcome_spaces):\n",
        "            yield joint_outcome\n",
        "\n",
        "    def enumerate_assignments(self, rvs):\n",
        "        \"\"\"\n",
        "        Helper to enumerate joint assignments (dict mapping rv name to outcome) in the cartersian product (cross-product) space of the rvs' outcome spaces\n",
        "        \"\"\"\n",
        "        for joint_outcome in self.enumerate_joint_outcomes(rvs):\n",
        "            yield dict(zip(rvs, joint_outcome))"
      ]
    },
    {
      "cell_type": "markdown",
      "id": "6fc834e7-86b7-46b8-991f-59a91cdd07d3",
      "metadata": {
        "id": "6fc834e7-86b7-46b8-991f-59a91cdd07d3"
      },
      "source": [
        "**EXERCISE - Student: BN.** Construct the a _BayesianNetwork_ object for the Student example (i.e., the DAG from Figure 1 and CPDs from Figure 2) and display its structure."
      ]
    },
    {
      "cell_type": "code",
      "execution_count": null,
      "id": "669ed735-efa0-4bb4-8b64-113947a89e11",
      "metadata": {
        "id": "669ed735-efa0-4bb4-8b64-113947a89e11"
      },
      "outputs": [],
      "source": [
        "# **YOUR SOLUTION HERE**"
      ]
    },
    {
      "cell_type": "markdown",
      "id": "9cdcd7e7-b1a3-44f3-9043-a1f62c0d03e6",
      "metadata": {
        "id": "9cdcd7e7-b1a3-44f3-9043-a1f62c0d03e6"
      },
      "source": [
        "**EXERCISE - Student: Joint Distribution.** Complete the `joint_probability` method of the `BayesianNetwork` class, then for the Student BN, display the complete joint distribution in a table and verify that it adds up to 1 over its joint outcome space.\n",
        "\n",
        "Here's how you should format the table (you can use `tabulate` or your preferred helper for visualising tables):\n",
        "* one joint outcome per row\n",
        "* columns for each rv and a final column for the probability\n",
        "* for probability, use 5 decimals of precision\n",
        "* for the order of the joint outcomes, use `('D', 'I', 'G', 'S', 'L')`\n",
        "\n",
        "This should reconstruct Table 1 from the class slides."
      ]
    },
    {
      "cell_type": "code",
      "execution_count": null,
      "id": "9e271e06-2532-4037-9c07-ffaa60177343",
      "metadata": {
        "id": "9e271e06-2532-4037-9c07-ffaa60177343"
      },
      "outputs": [],
      "source": [
        "# **YOUR SOLUTION HERE**"
      ]
    },
    {
      "cell_type": "markdown",
      "id": "93b001de-09d1-4620-a0ce-4fa8aa6b1a36",
      "metadata": {
        "id": "93b001de-09d1-4620-a0ce-4fa8aa6b1a36"
      },
      "source": [
        "# Reasoning Patterns\n",
        "\n",
        "We can use probability calculus to appreciate the effect of observing a variable may or may not have on our beliefs about other variables. The three broad categories of reasoning patterns due to observation are causal, evidential and intercausal.  "
      ]
    },
    {
      "cell_type": "markdown",
      "id": "64010467-ea98-4cf1-8abf-9361217392f5",
      "metadata": {
        "id": "64010467-ea98-4cf1-8abf-9361217392f5"
      },
      "source": [
        "**EXERCISE - Student: Reasoning Patterns.** Make the relevant queries to the joint distribution and demonstrate examples of the following:\n",
        "\n",
        "* 3 examples of _causal reasoning_, each on a different rv;\n",
        "* 3 examples of _evidential reasoning_, each on a different rv;\n",
        "* 2 examples of _intercausal reasoning_, where you vary the rv that's activating the v-structure\n",
        "\n",
        "For each example, you must display the result of any probability query you use in your rationale for the example, and you must provide a brief explanation of why the example demonstrates causal, evidential or intercausal reasoning.\n",
        "\n",
        "Tip: the strategy here is to compare the probability of the outcome of some rv before and after observing the outcome of some other rv, this demonstrates an effect; why this effect is causal, evidential or intercausal is for you to explain.\n",
        "\n",
        "Make sure your solution is organised, your TA cannot grade it if they cannot understand it."
      ]
    },
    {
      "cell_type": "code",
      "execution_count": null,
      "id": "7cb0688e-bf85-424e-8df7-8b965185f107",
      "metadata": {
        "id": "7cb0688e-bf85-424e-8df7-8b965185f107"
      },
      "outputs": [],
      "source": [
        "# **YOUR SOLUTION HERE**"
      ]
    },
    {
      "cell_type": "markdown",
      "id": "22c2af46-829d-4298-b6a1-ef4820c2124e",
      "metadata": {
        "id": "22c2af46-829d-4298-b6a1-ef4820c2124e"
      },
      "source": [
        "# Independence\n",
        "\n",
        "When we have a complete representation of a joint distribution, we can reason about (conditional) independence. Here, you will do just that."
      ]
    },
    {
      "cell_type": "markdown",
      "id": "5260ed00-c6ea-40d4-93d6-7d894fcf4109",
      "metadata": {
        "id": "5260ed00-c6ea-40d4-93d6-7d894fcf4109"
      },
      "source": [
        "**EXERCISE - Student: Independence.** Test independence via probability calculus (that is, make the necessary joint/conditional/marginal queries to the BN, as to ascertain some independence statement) for the following statements:\n",
        "\n",
        "1. $L \\perp S$\n",
        "2. $L \\perp S \\mid I$\n",
        "4. $D \\perp L$\n",
        "5. $D \\perp L \\mid G$\n",
        "\n",
        "You can implement a function that does the necessary computations and returns True or False, or you can implement a function that computes and prints the necessary probability tables for you to decide by inspection of results (this 'inspection' method is how we did it in class). If you opt for the 'inspection' strategy, you need to explain how you draw your conclusion, otherwise the TA cannot know your rationale for the answer. Also note that when we say _inspection_ we really mean it, one needs to be able to look at what you are referring to and see it, without having to do any further calculations."
      ]
    },
    {
      "cell_type": "code",
      "execution_count": null,
      "id": "30e97383-c571-45a1-ae1c-479442486a34",
      "metadata": {
        "id": "30e97383-c571-45a1-ae1c-479442486a34"
      },
      "outputs": [],
      "source": [
        "# **YOUR SOLUTION HERE**"
      ]
    },
    {
      "cell_type": "markdown",
      "id": "eb8f2c81-c382-4d64-8899-72650de292c0",
      "metadata": {
        "id": "eb8f2c81-c382-4d64-8899-72650de292c0"
      },
      "source": [
        "# D-Separation\n",
        "\n",
        "D-Separation is a tool for ascertaining (conditional) independence statements based solely on the BN structure (that is, knowing the DAG is enough, we do not need a complete distribution with its underlying local probability models).\n",
        "\n",
        "D-separation depends on the concept of a trail, which may be active (enable influence) or inactive (block influence), as discussed in class. When we make a d-sep claim we are making a claim that holds for _all_ trials between the relevant nodes.\n",
        "\n",
        "In general, in a DAG, enumerating all trials is an exponential-time algorithm, so implementing d-spearation requires careful algorithms.\n",
        "A polynomial-time algorithm for D-separation is possible and not too complex, but for didactic purposes, here we will be _enumerating_ trails exhaustively and one by one (for this notebook this is okay because we only have small BNs).\n",
        "\n",
        "You will first implement the test to determine whether a trail is active or not. After that, you will implement d-separation."
      ]
    },
    {
      "cell_type": "markdown",
      "id": "7599a191-eb29-4ee5-b894-4bfc1927fe38",
      "metadata": {
        "id": "7599a191-eb29-4ee5-b894-4bfc1927fe38"
      },
      "source": [
        "**EXERCISE - Student: Active Trails.**\n",
        "\n",
        "1. Implement a helper function to decide whether a trail is active in a DAG.\n",
        "2. Then use `make_all_trails_table` below to print the trails between all pairs of nodes in the Student BN and the trail's status (active or not) before and after observing an evidence set. Print a table with `evidence={'G'}` and one with `evidence={'L'}`."
      ]
    },
    {
      "cell_type": "code",
      "execution_count": null,
      "id": "6d2a59e0-672c-44f3-8dbc-e8a596ae9052",
      "metadata": {
        "id": "6d2a59e0-672c-44f3-8dbc-e8a596ae9052"
      },
      "outputs": [],
      "source": [
        "def make_all_trails_table(dag: DAG, evidence=set()):\n",
        "    \"\"\"\n",
        "    Make a table for visualiasation to show:\n",
        "        for all pairs of nodes in the dag,\n",
        "            all trails and whether they are active before/after observing evidence\n",
        "    \"\"\"\n",
        "    trail_table = []\n",
        "    for x, y in itertools.combinations(dag.topo, 2):\n",
        "        for trail in dag.enumerate_trails(x, y):\n",
        "            trail_table.append([x, y, \" -- \".join(trail), is_trail_active(dag, trail), is_trail_active(dag, trail, evidence)])\n",
        "    return tabulate(trail_table, headers=['From', 'To', 'Trail', 'Active without evidence', f\"Active given {', '.join(evidence)} \"])"
      ]
    },
    {
      "cell_type": "code",
      "execution_count": null,
      "id": "bfaa63a7-f84f-497b-9f0c-7f07fa72ad0c",
      "metadata": {
        "id": "bfaa63a7-f84f-497b-9f0c-7f07fa72ad0c"
      },
      "outputs": [],
      "source": [
        "def is_trail_active(dag: DAG, trail: list, evidence=set()):\n",
        "    \"\"\"\n",
        "    Return True if a given trail (list of nodes) is active given evidence.\n",
        "    \"\"\"\n",
        "    # **YOUR SOLUTION HERE***\n",
        "    raise NotImplementedError(\"Implementing this is an exercise!\")"
      ]
    },
    {
      "cell_type": "code",
      "execution_count": null,
      "id": "a1e10b3e-cca1-453e-8b6c-e6c6dcfbd253",
      "metadata": {
        "id": "a1e10b3e-cca1-453e-8b6c-e6c6dcfbd253"
      },
      "outputs": [],
      "source": [
        "# **YOUR SOLUTION HERE***"
      ]
    },
    {
      "cell_type": "markdown",
      "id": "d4fca8cd-87e4-4b4e-a99f-f89e4ad3a090",
      "metadata": {
        "id": "d4fca8cd-87e4-4b4e-a99f-f89e4ad3a090"
      },
      "source": [
        "**EXERCISE - Student: D-Separation.** Implement d-seperation by enumeration of trails. Test it for the following 4 statements:\n",
        "\n",
        "1. $L \\perp S$\n",
        "2. $L \\perp S \\mid I$\n",
        "4. $D \\perp L$\n",
        "5. $D \\perp L \\mid G$\n",
        "\n",
        "The result should be the same as when you tested independence via probability calculus."
      ]
    },
    {
      "cell_type": "code",
      "execution_count": null,
      "id": "d85b89c1-e089-4e3e-81fa-33cc4b01fb03",
      "metadata": {
        "id": "d85b89c1-e089-4e3e-81fa-33cc4b01fb03"
      },
      "outputs": [],
      "source": [
        "def dsep(bn_structure: DAG, X: set(), Y: set, Z=set()):\n",
        "    \"\"\"\n",
        "    Return True if d-sep(X; Y|Z) or False otherwise.\n",
        "    \"\"\"\n",
        "    # **YOUR SOLUTION HERE**\n",
        "    raise NotImplementedError(\"Implementing this is an exercise\")"
      ]
    },
    {
      "cell_type": "code",
      "execution_count": null,
      "id": "3e576483-2310-464b-acad-5b98bd4e1a23",
      "metadata": {
        "id": "3e576483-2310-464b-acad-5b98bd4e1a23"
      },
      "outputs": [],
      "source": [
        "# **YOUR SOLUTION HERE**"
      ]
    },
    {
      "cell_type": "markdown",
      "id": "10d2ba63-12c2-49c4-a28a-9821b4e6d8c4",
      "metadata": {
        "id": "10d2ba63-12c2-49c4-a28a-9821b4e6d8c4"
      },
      "source": [
        "**EXERCISE - Extended Student: BN Structure.** Construct the BN Structure for the _Extended_ Student Example discussed in class (Figure 3) and display it."
      ]
    },
    {
      "cell_type": "code",
      "execution_count": null,
      "id": "595ea68e-99bf-4f0b-a947-724fc45ab476",
      "metadata": {
        "id": "595ea68e-99bf-4f0b-a947-724fc45ab476"
      },
      "outputs": [],
      "source": [
        "# **YOUR SOLUTION HERE**"
      ]
    },
    {
      "cell_type": "markdown",
      "id": "fef38336-23f8-4033-ba92-9425c84ab95a",
      "metadata": {
        "id": "fef38336-23f8-4033-ba92-9425c84ab95a"
      },
      "source": [
        "**EXERCISE - Extended Student: D-Separation.** Use your code to test the following d-sep statements against the BN structure of the Extended Student Example, display the result (True/False) of each test.\n",
        "\n",
        "1. dsep(D;J)\n",
        "2. dsep(D;J|I,L)\n",
        "3. dsep(D;J|L)\n",
        "4. dsep(D;J|I,L,J)\n",
        "5. dsep(D;I)\n",
        "6. dsep(D;I|L)\n",
        "7. dsep(D;S)\n",
        "8. dsep(D;S|H)\n",
        "9. dsep(G;S)\n",
        "10. dsep(G;S|H)"
      ]
    },
    {
      "cell_type": "code",
      "execution_count": null,
      "id": "4c534252-cab0-4584-9973-9f6524985c1b",
      "metadata": {
        "id": "4c534252-cab0-4584-9973-9f6524985c1b"
      },
      "outputs": [],
      "source": [
        "# **YOUR SOLUTION HERE**"
      ]
    },
    {
      "cell_type": "markdown",
      "id": "d57e9971-489a-4b61-a197-6fd54effdf73",
      "metadata": {
        "id": "d57e9971-489a-4b61-a197-6fd54effdf73"
      },
      "source": [
        "# Use of AI Tools\n",
        "\n",
        "By submitting this notebook for grading you testify that:\n",
        "\n",
        "* AI did not draft an earlier version of your work.\n",
        "* You did not use AI-powered code completion.\n",
        "* You did not implement algorithms suggested by an AI tool.\n",
        "* AI did not revise a version of your work.\n",
        "* You did not implement suggestions made by an AI tool.\n",
        "\n",
        "\n",
        "_You_ in the sentences above refers to you and all your team members.\n",
        "_AI_ refers to LM-based tools and assistants (e.g., ChatGPT, Gemini, UvA AI chat, etc.).\n",
        "\n",
        "If you did make use of an AI tool, you should describe the uses you made of it below. Or indicate that no such tool was used."
      ]
    },
    {
      "cell_type": "markdown",
      "id": "c2f177b0-11f1-475c-971d-554003d8eb2b",
      "metadata": {
        "id": "c2f177b0-11f1-475c-971d-554003d8eb2b"
      },
      "source": [
        "**TYPE YOUR STATEMENT HERE**"
      ]
    },
    {
      "cell_type": "code",
      "execution_count": null,
      "id": "5089a94b-a629-4eb9-aa17-bfc1d3e2cbf6",
      "metadata": {
        "id": "5089a94b-a629-4eb9-aa17-bfc1d3e2cbf6"
      },
      "outputs": [],
      "source": []
    }
  ],
  "metadata": {
    "kernelspec": {
      "display_name": "Python 3 (ipykernel)",
      "language": "python",
      "name": "python3"
    },
    "language_info": {
      "codemirror_mode": {
        "name": "ipython",
        "version": 3
      },
      "file_extension": ".py",
      "mimetype": "text/x-python",
      "name": "python",
      "nbconvert_exporter": "python",
      "pygments_lexer": "ipython3",
      "version": "3.9.15"
    },
    "colab": {
      "provenance": []
    }
  },
  "nbformat": 4,
  "nbformat_minor": 5
}